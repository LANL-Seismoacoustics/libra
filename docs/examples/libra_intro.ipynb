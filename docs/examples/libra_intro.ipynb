{
 "cells": [
  {
   "cell_type": "markdown",
   "metadata": {},
   "source": [
    "# *Libra* - Your Database Manager's Favorite Database Manager\n",
    "> Brady Spears, Los Alamos National Laboratory\n",
    "\n",
    "---\n",
    "\n",
    "## License Information\n",
    "Copyright 2024\n",
    "\n",
    "Triad National Security, LLC. All rights reserved.\n",
    "This program was produced under U.S. Government contract 89233218CNA000001 for \n",
    "Los Alamos National Laboratory (LANL), which is operated by Triad National \n",
    "Security, LLC for the U.S. Department of Energy/National Nuclear Security \n",
    "Administration. All rights in the program are reserved by Triad National \n",
    "Security, LLC, and the U.S. Department of Energy/National Nuclear Security \n",
    "Administration. The Government is granted for itself and others acting on its \n",
    "behalf a nonexclusive, paid-up, irrevocable worldwide license in this material \n",
    "to reproduce, prepare derivative works, distribute copies to the public, \n",
    "perform publicly and display publicly, and to permit others to do so.\n",
    " \n",
    "Permission is hereby granted, free of charge, to any person obtaining a copy of \n",
    "this software and associated documentation files (the \"Software\"), to deal in \n",
    "the Software without restriction, including without limitation the rights to \n",
    "use, copy, modify, merge, publish, distribute, sublicense, and/or sell copies \n",
    "of the Software, and to permit persons to whom the Software is furnished to do \n",
    "so, subject to the following conditions:\n",
    " \n",
    "The above copyright notice and this permission notice shall be included in all \n",
    "copies or substantial portions of the Software.\n",
    "\n",
    "THE SOFTWARE IS PROVIDED \"AS IS\", WITHOUT WARRANTY OF ANY KIND, EXPRESS OR \n",
    "IMPLIED, INCLUDING BUT NOT LIMITED TO THE WARRANTIES OF MERCHANTABILITY, \n",
    "FITNESS FOR A PARTICULAR PURPOSE AND NONINFRINGEMENT. IN NO EVENT SHALL THE \n",
    "AUTHORS OR COPYRIGHT HOLDERS BE LIABLE FOR ANY CLAIM, DAMAGES OR OTHER \n",
    "LIABILITY, WHETHER IN AN ACTION OF CONTRACT, TORT OR OTHERWISE, ARISING FROM, \n",
    "OUT OF OR IN CONNECTION WITH THE SOFTWARE OR THE USE OR OTHER DEALINGS IN THE \n",
    "SOFTWARE.\n",
    "\n",
    "---\n",
    "\n",
    "## About *Libra*\n",
    "`Libra` is an open-source Python package for managing object-relation-mapped \n",
    "(ORM) instances (A.K.A. \"Models\") across various schemas and various relational \n",
    "database backends. `Libra` was developed by Brady Spears with \n",
    "contirubtions from Christine Gammans and Richard Alfaro-Diaz at Los Alamos \n",
    "National Laboratory.\n",
    "\n",
    "---\n",
    "\n",
    "## About this Notebook\n",
    "This notebook demonstrates some standard use cases of `Libra`, including \n",
    "the initialization of a `Schema` object and the loading and writing of \n",
    "schema defintions to/from various built-in formats. More advanced funcitonality \n",
    "and customization options are also touched on in the latter pages of the \n",
    "notebook, but for more complete examples, please see the more focused examples \n",
    "located in the [docs/examples](docs/examples) directory.\n",
    "\n",
    "---"
   ]
  },
  {
   "cell_type": "markdown",
   "metadata": {},
   "source": [
    "## Declaring and Adding Models to a `Schema` object"
   ]
  },
  {
   "cell_type": "code",
   "execution_count": 8,
   "metadata": {},
   "outputs": [],
   "source": [
    "from datetime import datetime, timezone\n",
    "\n",
    "from sqlalchemy import Column\n",
    "from sqlalchemy import DateTime, Float, Integer, String\n",
    "\n",
    "from libra import Schema\n",
    "\n",
    "# Initialization only needs the Schema name\n",
    "kbcore = Schema('NNSA KB Core')\n",
    "\n",
    "@kbcore.add_model\n",
    "class affiliation:\n",
    "    net     = Column(String(8), default = '-')\n",
    "    sta     = Column(String(6), default = '-')\n",
    "    time    = Column(Float(precision = 53), default = -9999999999.999)\n",
    "    endtime = Column(Float(precision = 53), default = 9999999999.999)\n",
    "    lddate  = Column(DateTime, nullable = False, onupdate = datetime.now(timezone.utc),\n",
    "                default = datetime.now(timezone.utc))\n",
    "\n",
    "    pk = ['net', 'sta', 'time']"
   ]
  },
  {
   "cell_type": "markdown",
   "metadata": {},
   "source": [
    "Establish a connection to the database, assign a table name to a child object \n",
    "of the model, and create the table in the database, if it doesn't already exist\n",
    "\n",
    "**CREATE**"
   ]
  },
  {
   "cell_type": "code",
   "execution_count": null,
   "metadata": {},
   "outputs": [],
   "source": [
    "from sqlalchemy import create_engine\n",
    "from sqlalchemy.orm import Session\n",
    "\n",
    "connection_str = 'sqlite:///data/libra_intro.db' # In-Memory DB\n",
    "\n",
    "engine = create_engine(connection_str)\n",
    "session = Session(engine)\n",
    "\n",
    "class Affiliation(kbcore.affiliation):\n",
    "    __tablename__ = 'intro_affiliation'\n",
    "\n",
    "Affiliation.__table__.drop(engine, checkfirst = True) # Drop table if already there\n",
    "\n",
    "kbcore.base.metadata.create_all(engine) # Create Table"
   ]
  },
  {
   "cell_type": "markdown",
   "metadata": {},
   "source": [
    "Add data to the table and commit the changes\n",
    "\n",
    "**UPDATE**"
   ]
  },
  {
   "cell_type": "code",
   "execution_count": 10,
   "metadata": {},
   "outputs": [],
   "source": [
    "# Use Positional Instantiation\n",
    "session.add(Affiliation('USGS', 'ANMO', 144547200., 9999999999.999, datetime.now(timezone.utc))) # Albuquerque, NM\n",
    "session.add(Affiliation('USGS', 'EDIT', 820454400., 9999999999.999, datetime.now(timezone.utc))) # Edith, TN\n",
    "session.add(Affiliation('USGS', 'HAV', -552355200., 9999999999.999, datetime.now(timezone.utc))) # Havilah, CA\n",
    "\n",
    "# Or use Keyword Instantiation (will use default column values)\n",
    "session.add(Affiliation(net = 'USGS', sta = 'SGM', time = 94694400)) # Silver Gate, MT\n",
    "\n",
    "session.commit()"
   ]
  },
  {
   "cell_type": "markdown",
   "metadata": {},
   "source": [
    "Regurgitate some of the data that was just committed using `SQLAlchemy`, \n",
    "filtering on the 'time' column of the Affiliation table\n",
    "\n",
    "**READ**"
   ]
  },
  {
   "cell_type": "code",
   "execution_count": 11,
   "metadata": {},
   "outputs": [
    {
     "data": {
      "text/plain": [
       "[Affiliation(net='USGS', sta='ANMO', time=144547200.0),\n",
       " Affiliation(net='USGS', sta='EDIT', time=820454400.0),\n",
       " Affiliation(net='USGS', sta='SGM', time=94694400.0)]"
      ]
     },
     "execution_count": 11,
     "metadata": {},
     "output_type": "execute_result"
    }
   ],
   "source": [
    "query = session.query(Affiliation).filter(Affiliation.time >= 0.)\n",
    "\n",
    "list(query) # List out each row of the query"
   ]
  },
  {
   "cell_type": "markdown",
   "metadata": {},
   "source": [
    "Delete a row from the table and query the whole table back\n",
    "\n",
    "**DELETE**"
   ]
  },
  {
   "cell_type": "code",
   "execution_count": 12,
   "metadata": {},
   "outputs": [
    {
     "data": {
      "text/plain": [
       "[Affiliation(net='USGS', sta='ANMO', time=144547200.0),\n",
       " Affiliation(net='USGS', sta='HAV', time=-552355200.0),\n",
       " Affiliation(net='USGS', sta='SGM', time=94694400.0)]"
      ]
     },
     "execution_count": 12,
     "metadata": {},
     "output_type": "execute_result"
    }
   ],
   "source": [
    "aff_to_remove = session.query(Affiliation).filter(Affiliation.sta == 'EDIT').first()\n",
    "\n",
    "session.delete(aff_to_remove)\n",
    "session.commit()\n",
    "\n",
    "list(session.query(Affiliation).all())"
   ]
  }
 ],
 "metadata": {
  "kernelspec": {
   "display_name": "libra-ex-env",
   "language": "python",
   "name": "python3"
  },
  "language_info": {
   "codemirror_mode": {
    "name": "ipython",
    "version": 3
   },
   "file_extension": ".py",
   "mimetype": "text/x-python",
   "name": "python",
   "nbconvert_exporter": "python",
   "pygments_lexer": "ipython3",
   "version": "3.12.10"
  }
 },
 "nbformat": 4,
 "nbformat_minor": 2
}
